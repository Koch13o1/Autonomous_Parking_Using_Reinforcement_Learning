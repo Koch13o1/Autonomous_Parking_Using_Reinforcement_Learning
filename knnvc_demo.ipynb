{
  "nbformat": 4,
  "nbformat_minor": 0,
  "metadata": {
    "colab": {
      "provenance": [],
      "gpuType": "T4"
    },
    "kernelspec": {
      "name": "python3",
      "display_name": "Python 3"
    },
    "language_info": {
      "name": "python"
    },
    "accelerator": "GPU"
  },
  "cells": [
    {
      "cell_type": "code",
      "execution_count": 1,
      "metadata": {
        "colab": {
          "base_uri": "https://localhost:8080/"
        },
        "id": "L8If-TOe4BZO",
        "outputId": "8e150bb4-6e9c-4cfc-9ed8-f5ae614cff82"
      },
      "outputs": [
        {
          "output_type": "stream",
          "name": "stderr",
          "text": [
            "Downloading: \"https://github.com/bshall/knn-vc/zipball/master\" to /root/.cache/torch/hub/master.zip\n",
            "/usr/local/lib/python3.11/dist-packages/torch/nn/utils/weight_norm.py:143: FutureWarning: `torch.nn.utils.weight_norm` is deprecated in favor of `torch.nn.utils.parametrizations.weight_norm`.\n",
            "  WeightNorm.apply(module, name, dim)\n",
            "Downloading: \"https://github.com/bshall/knn-vc/releases/download/v0.1/prematch_g_02500000.pt\" to /root/.cache/torch/hub/checkpoints/prematch_g_02500000.pt\n",
            "100%|██████████| 63.1M/63.1M [00:04<00:00, 16.4MB/s]\n"
          ]
        },
        {
          "output_type": "stream",
          "name": "stdout",
          "text": [
            "Removing weight norm...\n",
            "[HiFiGAN] Generator loaded with 16,523,393 parameters.\n"
          ]
        },
        {
          "output_type": "stream",
          "name": "stderr",
          "text": [
            "Downloading: \"https://github.com/bshall/knn-vc/releases/download/v0.1/WavLM-Large.pt\" to /root/.cache/torch/hub/checkpoints/WavLM-Large.pt\n",
            "100%|██████████| 1.18G/1.18G [02:01<00:00, 10.4MB/s]\n"
          ]
        },
        {
          "output_type": "stream",
          "name": "stdout",
          "text": [
            "WavLM-Large loaded with 315,453,120 parameters.\n"
          ]
        }
      ],
      "source": [
        "import torch, torchaudio\n",
        "\n",
        "knn_vc = torch.hub.load('bshall/knn-vc', 'knn_vc', prematched=True, trust_repo=True, pretrained=True, device='cuda')"
      ]
    },
    {
      "cell_type": "code",
      "source": [
        "from google.colab import drive\n",
        "drive.mount('/content/drive')"
      ],
      "metadata": {
        "id": "h_BY4lu440qp",
        "outputId": "a3e9b04a-7ace-44b8-86a2-d307ae38bb0f",
        "colab": {
          "base_uri": "https://localhost:8080/"
        }
      },
      "execution_count": 3,
      "outputs": [
        {
          "output_type": "stream",
          "name": "stdout",
          "text": [
            "Mounted at /content/drive\n"
          ]
        }
      ]
    },
    {
      "cell_type": "code",
      "source": [
        "src_wav_path = \"/content/drive/My Drive/NewData/cmu_us_awb_arctic/wav/arctic_a0001.wav\"\n",
        "\n",
        "ref_wav_paths = \"/content/drive/My Drive/NewData/cmu_us_bdl_arctic/wav/arctic_a0001.wav\""
      ],
      "metadata": {
        "id": "suguWD3646Re"
      },
      "execution_count": 4,
      "outputs": []
    },
    {
      "cell_type": "code",
      "source": [
        "# # path to 16kHz, single-channel, source waveform\n",
        "# src_wav_path = '/content/src.wav'\n",
        "# # list of paths to all reference waveforms (each must be 16kHz, single-channel) from the target speaker\n",
        "# ref_wav_paths = ['/content/ref1.wav', ]\n",
        "\n",
        "query_seq = knn_vc.get_features(src_wav_path)\n",
        "print(query_seq.shape)\n",
        "matching_set = knn_vc.get_matching_set(ref_wav_paths)\n",
        "print(matching_set.shape)"
      ],
      "metadata": {
        "id": "OSTHzOc14In5",
        "outputId": "5fc0125d-12d4-4daf-82f6-5e53dcdd5a40",
        "colab": {
          "base_uri": "https://localhost:8080/",
          "height": 1000
        }
      },
      "execution_count": 5,
      "outputs": [
        {
          "output_type": "stream",
          "name": "stdout",
          "text": [
            "torch.Size([199, 1024])\n"
          ]
        },
        {
          "output_type": "error",
          "ename": "RuntimeError",
          "evalue": "Failed to open the input \"/\" (Is a directory).\nException raised from get_input_format_context at /__w/audio/audio/pytorch/audio/src/libtorio/ffmpeg/stream_reader/stream_reader.cpp:42 (most recent call first):\nframe #0: c10::Error::Error(c10::SourceLocation, std::string) + 0x96 (0x7c3e206b9446 in /usr/local/lib/python3.11/dist-packages/torch/lib/libc10.so)\nframe #1: c10::detail::torchCheckFail(char const*, char const*, unsigned int, std::string const&) + 0x64 (0x7c3e206636e4 in /usr/local/lib/python3.11/dist-packages/torch/lib/libc10.so)\nframe #2: <unknown function> + 0x42134 (0x7c3e11dca134 in /usr/local/lib/python3.11/dist-packages/torio/lib/libtorio_ffmpeg4.so)\nframe #3: torio::io::StreamingMediaDecoder::StreamingMediaDecoder(std::string const&, std::optional<std::string> const&, std::optional<std::map<std::string, std::string, std::less<std::string>, std::allocator<std::pair<std::string const, std::string> > > > const&) + 0x14 (0x7c3e11dccb34 in /usr/local/lib/python3.11/dist-packages/torio/lib/libtorio_ffmpeg4.so)\nframe #4: <unknown function> + 0x3a8de (0x7c3d2273a8de in /usr/local/lib/python3.11/dist-packages/torio/lib/_torio_ffmpeg4.so)\nframe #5: <unknown function> + 0x323ee (0x7c3d227323ee in /usr/local/lib/python3.11/dist-packages/torio/lib/_torio_ffmpeg4.so)\nframe #6: /usr/bin/python3() [0x55559b]\nframe #7: _PyObject_MakeTpCall + 0x27c (0x52f67c in /usr/bin/python3)\nframe #8: /usr/bin/python3() [0x58536d]\nframe #9: /usr/bin/python3() [0x56e229]\nframe #10: /usr/bin/python3() [0x52fa60]\nframe #11: <unknown function> + 0xfc8b (0x7c3e20ac6c8b in /usr/local/lib/python3.11/dist-packages/torchaudio/lib/_torchaudio.so)\nframe #12: _PyObject_MakeTpCall + 0x27c (0x52f67c in /usr/bin/python3)\nframe #13: _PyEval_EvalFrameDefault + 0x6bf (0x53d7ff in /usr/bin/python3)\nframe #14: _PyFunction_Vectorcall + 0x173 (0x5661a3 in /usr/bin/python3)\nframe #15: /usr/bin/python3() [0x56deb6]\nframe #16: _PyObject_MakeTpCall + 0x23b (0x52f63b in /usr/bin/python3)\nframe #17: _PyEval_EvalFrameDefault + 0x6bf (0x53d7ff in /usr/bin/python3)\nframe #18: _PyFunction_Vectorcall + 0x173 (0x5661a3 in /usr/bin/python3)\nframe #19: PyObject_Call + 0xf4 (0x570704 in /usr/bin/python3)\nframe #20: _PyEval_EvalFrameDefault + 0x4a8f (0x541bcf in /usr/bin/python3)\nframe #21: /usr/bin/python3() [0x6135e4]\nframe #22: PyEval_EvalCode + 0x97 (0x612c47 in /usr/bin/python3)\nframe #23: /usr/bin/python3() [0x62ca33]\nframe #24: _PyEval_EvalFrameDefault + 0x390f (0x540a4f in /usr/bin/python3)\nframe #25: /usr/bin/python3() [0x6284b0]\nframe #26: _PyEval_EvalFrameDefault + 0x3485 (0x5405c5 in /usr/bin/python3)\nframe #27: /usr/bin/python3() [0x6284b0]\nframe #28: _PyEval_EvalFrameDefault + 0x3485 (0x5405c5 in /usr/bin/python3)\nframe #29: /usr/bin/python3() [0x6284b0]\nframe #30: /usr/bin/python3() [0x62aaec]\nframe #31: _PyEval_EvalFrameDefault + 0x3a9d (0x540bdd in /usr/bin/python3)\nframe #32: /usr/bin/python3() [0x585a87]\nframe #33: /usr/bin/python3() [0x58526e]\nframe #34: PyObject_Call + 0xf4 (0x570704 in /usr/bin/python3)\nframe #35: _PyEval_EvalFrameDefault + 0x4a8f (0x541bcf in /usr/bin/python3)\nframe #36: /usr/bin/python3() [0x6284b0]\nframe #37: _PyEval_EvalFrameDefault + 0x3485 (0x5405c5 in /usr/bin/python3)\nframe #38: /usr/bin/python3() [0x6284b0]\nframe #39: _PyEval_EvalFrameDefault + 0x3485 (0x5405c5 in /usr/bin/python3)\nframe #40: /usr/bin/python3() [0x6284b0]\nframe #41: _PyEval_EvalFrameDefault + 0x3485 (0x5405c5 in /usr/bin/python3)\nframe #42: /usr/bin/python3() [0x6284b0]\nframe #43: _PyEval_EvalFrameDefault + 0x3485 (0x5405c5 in /usr/bin/python3)\nframe #44: /usr/bin/python3() [0x6284b0]\nframe #45: <unknown function> + 0x745f (0x7c3e3b13b45f in /usr/lib/python3.11/lib-dynload/_asyncio.cpython-311-x86_64-linux-gnu.so)\nframe #46: /usr/bin/python3() [0x553a1f]\nframe #47: /usr/bin/python3() [0x4d0bc0]\nframe #48: /usr/bin/python3() [0x4e94f3]\nframe #49: /usr/bin/python3() [0x54b25b]\nframe #50: _PyEval_EvalFrameDefault + 0x9129 (0x546269 in /usr/bin/python3)\nframe #51: /usr/bin/python3() [0x6135e4]\nframe #52: PyEval_EvalCode + 0x97 (0x612c47 in /usr/bin/python3)\nframe #53: /usr/bin/python3() [0x62ca33]\nframe #54: /usr/bin/python3() [0x54b25b]\nframe #55: PyObject_Vectorcall + 0x35 (0x54b145 in /usr/bin/python3)\nframe #56: _PyEval_EvalFrameDefault + 0x6bf (0x53d7ff in /usr/bin/python3)\nframe #57: _PyFunction_Vectorcall + 0x173 (0x5661a3 in /usr/bin/python3)\nframe #58: /usr/bin/python3() [0x63e860]\nframe #59: Py_RunMain + 0x13c (0x63e1bc in /usr/bin/python3)\nframe #60: Py_BytesMain + 0x2d (0x603f2d in /usr/bin/python3)\nframe #61: <unknown function> + 0x29d90 (0x7c3e3b871d90 in /lib/x86_64-linux-gnu/libc.so.6)\nframe #62: __libc_start_main + 0x80 (0x7c3e3b871e40 in /lib/x86_64-linux-gnu/libc.so.6)\n",
          "traceback": [
            "\u001b[0;31m---------------------------------------------------------------------------\u001b[0m",
            "\u001b[0;31mRuntimeError\u001b[0m                              Traceback (most recent call last)",
            "\u001b[0;32m<ipython-input-5-35b663fd6517>\u001b[0m in \u001b[0;36m<cell line: 0>\u001b[0;34m()\u001b[0m\n\u001b[1;32m      6\u001b[0m \u001b[0mquery_seq\u001b[0m \u001b[0;34m=\u001b[0m \u001b[0mknn_vc\u001b[0m\u001b[0;34m.\u001b[0m\u001b[0mget_features\u001b[0m\u001b[0;34m(\u001b[0m\u001b[0msrc_wav_path\u001b[0m\u001b[0;34m)\u001b[0m\u001b[0;34m\u001b[0m\u001b[0;34m\u001b[0m\u001b[0m\n\u001b[1;32m      7\u001b[0m \u001b[0mprint\u001b[0m\u001b[0;34m(\u001b[0m\u001b[0mquery_seq\u001b[0m\u001b[0;34m.\u001b[0m\u001b[0mshape\u001b[0m\u001b[0;34m)\u001b[0m\u001b[0;34m\u001b[0m\u001b[0;34m\u001b[0m\u001b[0m\n\u001b[0;32m----> 8\u001b[0;31m \u001b[0mmatching_set\u001b[0m \u001b[0;34m=\u001b[0m \u001b[0mknn_vc\u001b[0m\u001b[0;34m.\u001b[0m\u001b[0mget_matching_set\u001b[0m\u001b[0;34m(\u001b[0m\u001b[0mref_wav_paths\u001b[0m\u001b[0;34m)\u001b[0m\u001b[0;34m\u001b[0m\u001b[0;34m\u001b[0m\u001b[0m\n\u001b[0m\u001b[1;32m      9\u001b[0m \u001b[0mprint\u001b[0m\u001b[0;34m(\u001b[0m\u001b[0mmatching_set\u001b[0m\u001b[0;34m.\u001b[0m\u001b[0mshape\u001b[0m\u001b[0;34m)\u001b[0m\u001b[0;34m\u001b[0m\u001b[0;34m\u001b[0m\u001b[0m\n",
            "\u001b[0;32m~/.cache/torch/hub/bshall_knn-vc_master/matcher.py\u001b[0m in \u001b[0;36mget_matching_set\u001b[0;34m(self, wavs, weights, vad_trigger_level)\u001b[0m\n\u001b[1;32m     64\u001b[0m         \u001b[0mfeats\u001b[0m \u001b[0;34m=\u001b[0m \u001b[0;34m[\u001b[0m\u001b[0;34m]\u001b[0m\u001b[0;34m\u001b[0m\u001b[0;34m\u001b[0m\u001b[0m\n\u001b[1;32m     65\u001b[0m         \u001b[0;32mfor\u001b[0m \u001b[0mp\u001b[0m \u001b[0;32min\u001b[0m \u001b[0mwavs\u001b[0m\u001b[0;34m:\u001b[0m\u001b[0;34m\u001b[0m\u001b[0;34m\u001b[0m\u001b[0m\n\u001b[0;32m---> 66\u001b[0;31m             \u001b[0mfeats\u001b[0m\u001b[0;34m.\u001b[0m\u001b[0mappend\u001b[0m\u001b[0;34m(\u001b[0m\u001b[0mself\u001b[0m\u001b[0;34m.\u001b[0m\u001b[0mget_features\u001b[0m\u001b[0;34m(\u001b[0m\u001b[0mp\u001b[0m\u001b[0;34m,\u001b[0m \u001b[0mweights\u001b[0m\u001b[0;34m=\u001b[0m\u001b[0mself\u001b[0m\u001b[0;34m.\u001b[0m\u001b[0mweighting\u001b[0m \u001b[0;32mif\u001b[0m \u001b[0mweights\u001b[0m \u001b[0;32mis\u001b[0m \u001b[0;32mNone\u001b[0m \u001b[0;32melse\u001b[0m \u001b[0mweights\u001b[0m\u001b[0;34m,\u001b[0m \u001b[0mvad_trigger_level\u001b[0m\u001b[0;34m=\u001b[0m\u001b[0mvad_trigger_level\u001b[0m\u001b[0;34m)\u001b[0m\u001b[0;34m)\u001b[0m\u001b[0;34m\u001b[0m\u001b[0;34m\u001b[0m\u001b[0m\n\u001b[0m\u001b[1;32m     67\u001b[0m \u001b[0;34m\u001b[0m\u001b[0m\n\u001b[1;32m     68\u001b[0m         \u001b[0mfeats\u001b[0m \u001b[0;34m=\u001b[0m \u001b[0mtorch\u001b[0m\u001b[0;34m.\u001b[0m\u001b[0mconcat\u001b[0m\u001b[0;34m(\u001b[0m\u001b[0mfeats\u001b[0m\u001b[0;34m,\u001b[0m \u001b[0mdim\u001b[0m\u001b[0;34m=\u001b[0m\u001b[0;36m0\u001b[0m\u001b[0;34m)\u001b[0m\u001b[0;34m.\u001b[0m\u001b[0mcpu\u001b[0m\u001b[0;34m(\u001b[0m\u001b[0;34m)\u001b[0m\u001b[0;34m\u001b[0m\u001b[0;34m\u001b[0m\u001b[0m\n",
            "\u001b[0;32m/usr/local/lib/python3.11/dist-packages/torch/utils/_contextlib.py\u001b[0m in \u001b[0;36mdecorate_context\u001b[0;34m(*args, **kwargs)\u001b[0m\n\u001b[1;32m    114\u001b[0m     \u001b[0;32mdef\u001b[0m \u001b[0mdecorate_context\u001b[0m\u001b[0;34m(\u001b[0m\u001b[0;34m*\u001b[0m\u001b[0margs\u001b[0m\u001b[0;34m,\u001b[0m \u001b[0;34m**\u001b[0m\u001b[0mkwargs\u001b[0m\u001b[0;34m)\u001b[0m\u001b[0;34m:\u001b[0m\u001b[0;34m\u001b[0m\u001b[0;34m\u001b[0m\u001b[0m\n\u001b[1;32m    115\u001b[0m         \u001b[0;32mwith\u001b[0m \u001b[0mctx_factory\u001b[0m\u001b[0;34m(\u001b[0m\u001b[0;34m)\u001b[0m\u001b[0;34m:\u001b[0m\u001b[0;34m\u001b[0m\u001b[0;34m\u001b[0m\u001b[0m\n\u001b[0;32m--> 116\u001b[0;31m             \u001b[0;32mreturn\u001b[0m \u001b[0mfunc\u001b[0m\u001b[0;34m(\u001b[0m\u001b[0;34m*\u001b[0m\u001b[0margs\u001b[0m\u001b[0;34m,\u001b[0m \u001b[0;34m**\u001b[0m\u001b[0mkwargs\u001b[0m\u001b[0;34m)\u001b[0m\u001b[0;34m\u001b[0m\u001b[0;34m\u001b[0m\u001b[0m\n\u001b[0m\u001b[1;32m    117\u001b[0m \u001b[0;34m\u001b[0m\u001b[0m\n\u001b[1;32m    118\u001b[0m     \u001b[0;32mreturn\u001b[0m \u001b[0mdecorate_context\u001b[0m\u001b[0;34m\u001b[0m\u001b[0;34m\u001b[0m\u001b[0m\n",
            "\u001b[0;32m~/.cache/torch/hub/bshall_knn-vc_master/matcher.py\u001b[0m in \u001b[0;36mget_features\u001b[0;34m(self, path, weights, vad_trigger_level)\u001b[0m\n\u001b[1;32m     86\u001b[0m         \u001b[0;32mif\u001b[0m \u001b[0mweights\u001b[0m \u001b[0;34m==\u001b[0m \u001b[0;32mNone\u001b[0m\u001b[0;34m:\u001b[0m \u001b[0mweights\u001b[0m \u001b[0;34m=\u001b[0m \u001b[0mself\u001b[0m\u001b[0;34m.\u001b[0m\u001b[0mweighting\u001b[0m\u001b[0;34m\u001b[0m\u001b[0;34m\u001b[0m\u001b[0m\n\u001b[1;32m     87\u001b[0m         \u001b[0;32mif\u001b[0m \u001b[0mtype\u001b[0m\u001b[0;34m(\u001b[0m\u001b[0mpath\u001b[0m\u001b[0;34m)\u001b[0m \u001b[0;32min\u001b[0m \u001b[0;34m[\u001b[0m\u001b[0mstr\u001b[0m\u001b[0;34m,\u001b[0m \u001b[0mPath\u001b[0m\u001b[0;34m]\u001b[0m\u001b[0;34m:\u001b[0m\u001b[0;34m\u001b[0m\u001b[0;34m\u001b[0m\u001b[0m\n\u001b[0;32m---> 88\u001b[0;31m             \u001b[0mx\u001b[0m\u001b[0;34m,\u001b[0m \u001b[0msr\u001b[0m \u001b[0;34m=\u001b[0m \u001b[0mtorchaudio\u001b[0m\u001b[0;34m.\u001b[0m\u001b[0mload\u001b[0m\u001b[0;34m(\u001b[0m\u001b[0mpath\u001b[0m\u001b[0;34m,\u001b[0m \u001b[0mnormalize\u001b[0m\u001b[0;34m=\u001b[0m\u001b[0;32mTrue\u001b[0m\u001b[0;34m)\u001b[0m\u001b[0;34m\u001b[0m\u001b[0;34m\u001b[0m\u001b[0m\n\u001b[0m\u001b[1;32m     89\u001b[0m         \u001b[0;32melse\u001b[0m\u001b[0;34m:\u001b[0m\u001b[0;34m\u001b[0m\u001b[0;34m\u001b[0m\u001b[0m\n\u001b[1;32m     90\u001b[0m             \u001b[0mx\u001b[0m\u001b[0;34m:\u001b[0m \u001b[0mTensor\u001b[0m \u001b[0;34m=\u001b[0m \u001b[0mpath\u001b[0m\u001b[0;34m\u001b[0m\u001b[0;34m\u001b[0m\u001b[0m\n",
            "\u001b[0;32m/usr/local/lib/python3.11/dist-packages/torchaudio/_backend/utils.py\u001b[0m in \u001b[0;36mload\u001b[0;34m(uri, frame_offset, num_frames, normalize, channels_first, format, buffer_size, backend)\u001b[0m\n\u001b[1;32m    203\u001b[0m         \"\"\"\n\u001b[1;32m    204\u001b[0m         \u001b[0mbackend\u001b[0m \u001b[0;34m=\u001b[0m \u001b[0mdispatcher\u001b[0m\u001b[0;34m(\u001b[0m\u001b[0muri\u001b[0m\u001b[0;34m,\u001b[0m \u001b[0mformat\u001b[0m\u001b[0;34m,\u001b[0m \u001b[0mbackend\u001b[0m\u001b[0;34m)\u001b[0m\u001b[0;34m\u001b[0m\u001b[0;34m\u001b[0m\u001b[0m\n\u001b[0;32m--> 205\u001b[0;31m         \u001b[0;32mreturn\u001b[0m \u001b[0mbackend\u001b[0m\u001b[0;34m.\u001b[0m\u001b[0mload\u001b[0m\u001b[0;34m(\u001b[0m\u001b[0muri\u001b[0m\u001b[0;34m,\u001b[0m \u001b[0mframe_offset\u001b[0m\u001b[0;34m,\u001b[0m \u001b[0mnum_frames\u001b[0m\u001b[0;34m,\u001b[0m \u001b[0mnormalize\u001b[0m\u001b[0;34m,\u001b[0m \u001b[0mchannels_first\u001b[0m\u001b[0;34m,\u001b[0m \u001b[0mformat\u001b[0m\u001b[0;34m,\u001b[0m \u001b[0mbuffer_size\u001b[0m\u001b[0;34m)\u001b[0m\u001b[0;34m\u001b[0m\u001b[0;34m\u001b[0m\u001b[0m\n\u001b[0m\u001b[1;32m    206\u001b[0m \u001b[0;34m\u001b[0m\u001b[0m\n\u001b[1;32m    207\u001b[0m     \u001b[0;32mreturn\u001b[0m \u001b[0mload\u001b[0m\u001b[0;34m\u001b[0m\u001b[0;34m\u001b[0m\u001b[0m\n",
            "\u001b[0;32m/usr/local/lib/python3.11/dist-packages/torchaudio/_backend/ffmpeg.py\u001b[0m in \u001b[0;36mload\u001b[0;34m(uri, frame_offset, num_frames, normalize, channels_first, format, buffer_size)\u001b[0m\n\u001b[1;32m    295\u001b[0m         \u001b[0mbuffer_size\u001b[0m\u001b[0;34m:\u001b[0m \u001b[0mint\u001b[0m \u001b[0;34m=\u001b[0m \u001b[0;36m4096\u001b[0m\u001b[0;34m,\u001b[0m\u001b[0;34m\u001b[0m\u001b[0;34m\u001b[0m\u001b[0m\n\u001b[1;32m    296\u001b[0m     ) -> Tuple[torch.Tensor, int]:\n\u001b[0;32m--> 297\u001b[0;31m         \u001b[0;32mreturn\u001b[0m \u001b[0mload_audio\u001b[0m\u001b[0;34m(\u001b[0m\u001b[0muri\u001b[0m\u001b[0;34m,\u001b[0m \u001b[0mframe_offset\u001b[0m\u001b[0;34m,\u001b[0m \u001b[0mnum_frames\u001b[0m\u001b[0;34m,\u001b[0m \u001b[0mnormalize\u001b[0m\u001b[0;34m,\u001b[0m \u001b[0mchannels_first\u001b[0m\u001b[0;34m,\u001b[0m \u001b[0mformat\u001b[0m\u001b[0;34m)\u001b[0m\u001b[0;34m\u001b[0m\u001b[0;34m\u001b[0m\u001b[0m\n\u001b[0m\u001b[1;32m    298\u001b[0m \u001b[0;34m\u001b[0m\u001b[0m\n\u001b[1;32m    299\u001b[0m     \u001b[0;34m@\u001b[0m\u001b[0mstaticmethod\u001b[0m\u001b[0;34m\u001b[0m\u001b[0;34m\u001b[0m\u001b[0m\n",
            "\u001b[0;32m/usr/local/lib/python3.11/dist-packages/torchaudio/_backend/ffmpeg.py\u001b[0m in \u001b[0;36mload_audio\u001b[0;34m(src, frame_offset, num_frames, convert, channels_first, format, buffer_size)\u001b[0m\n\u001b[1;32m     86\u001b[0m     \u001b[0;32mif\u001b[0m \u001b[0mhasattr\u001b[0m\u001b[0;34m(\u001b[0m\u001b[0msrc\u001b[0m\u001b[0;34m,\u001b[0m \u001b[0;34m\"read\"\u001b[0m\u001b[0;34m)\u001b[0m \u001b[0;32mand\u001b[0m \u001b[0mformat\u001b[0m \u001b[0;34m==\u001b[0m \u001b[0;34m\"vorbis\"\u001b[0m\u001b[0;34m:\u001b[0m\u001b[0;34m\u001b[0m\u001b[0;34m\u001b[0m\u001b[0m\n\u001b[1;32m     87\u001b[0m         \u001b[0mformat\u001b[0m \u001b[0;34m=\u001b[0m \u001b[0;34m\"ogg\"\u001b[0m\u001b[0;34m\u001b[0m\u001b[0;34m\u001b[0m\u001b[0m\n\u001b[0;32m---> 88\u001b[0;31m     \u001b[0ms\u001b[0m \u001b[0;34m=\u001b[0m \u001b[0mtorchaudio\u001b[0m\u001b[0;34m.\u001b[0m\u001b[0mio\u001b[0m\u001b[0;34m.\u001b[0m\u001b[0mStreamReader\u001b[0m\u001b[0;34m(\u001b[0m\u001b[0msrc\u001b[0m\u001b[0;34m,\u001b[0m \u001b[0mformat\u001b[0m\u001b[0;34m,\u001b[0m \u001b[0;32mNone\u001b[0m\u001b[0;34m,\u001b[0m \u001b[0mbuffer_size\u001b[0m\u001b[0;34m)\u001b[0m\u001b[0;34m\u001b[0m\u001b[0;34m\u001b[0m\u001b[0m\n\u001b[0m\u001b[1;32m     89\u001b[0m     \u001b[0msample_rate\u001b[0m \u001b[0;34m=\u001b[0m \u001b[0mint\u001b[0m\u001b[0;34m(\u001b[0m\u001b[0ms\u001b[0m\u001b[0;34m.\u001b[0m\u001b[0mget_src_stream_info\u001b[0m\u001b[0;34m(\u001b[0m\u001b[0ms\u001b[0m\u001b[0;34m.\u001b[0m\u001b[0mdefault_audio_stream\u001b[0m\u001b[0;34m)\u001b[0m\u001b[0;34m.\u001b[0m\u001b[0msample_rate\u001b[0m\u001b[0;34m)\u001b[0m\u001b[0;34m\u001b[0m\u001b[0;34m\u001b[0m\u001b[0m\n\u001b[1;32m     90\u001b[0m     \u001b[0mfilter\u001b[0m \u001b[0;34m=\u001b[0m \u001b[0m_get_load_filter\u001b[0m\u001b[0;34m(\u001b[0m\u001b[0mframe_offset\u001b[0m\u001b[0;34m,\u001b[0m \u001b[0mnum_frames\u001b[0m\u001b[0;34m,\u001b[0m \u001b[0mconvert\u001b[0m\u001b[0;34m)\u001b[0m\u001b[0;34m\u001b[0m\u001b[0;34m\u001b[0m\u001b[0m\n",
            "\u001b[0;32m/usr/local/lib/python3.11/dist-packages/torio/io/_streaming_media_decoder.py\u001b[0m in \u001b[0;36m__init__\u001b[0;34m(self, src, format, option, buffer_size)\u001b[0m\n\u001b[1;32m    524\u001b[0m             \u001b[0mself\u001b[0m\u001b[0;34m.\u001b[0m\u001b[0m_be\u001b[0m \u001b[0;34m=\u001b[0m \u001b[0mffmpeg_ext\u001b[0m\u001b[0;34m.\u001b[0m\u001b[0mStreamingMediaDecoderFileObj\u001b[0m\u001b[0;34m(\u001b[0m\u001b[0msrc\u001b[0m\u001b[0;34m,\u001b[0m \u001b[0mformat\u001b[0m\u001b[0;34m,\u001b[0m \u001b[0moption\u001b[0m\u001b[0;34m,\u001b[0m \u001b[0mbuffer_size\u001b[0m\u001b[0;34m)\u001b[0m\u001b[0;34m\u001b[0m\u001b[0;34m\u001b[0m\u001b[0m\n\u001b[1;32m    525\u001b[0m         \u001b[0;32melse\u001b[0m\u001b[0;34m:\u001b[0m\u001b[0;34m\u001b[0m\u001b[0;34m\u001b[0m\u001b[0m\n\u001b[0;32m--> 526\u001b[0;31m             \u001b[0mself\u001b[0m\u001b[0;34m.\u001b[0m\u001b[0m_be\u001b[0m \u001b[0;34m=\u001b[0m \u001b[0mffmpeg_ext\u001b[0m\u001b[0;34m.\u001b[0m\u001b[0mStreamingMediaDecoder\u001b[0m\u001b[0;34m(\u001b[0m\u001b[0mos\u001b[0m\u001b[0;34m.\u001b[0m\u001b[0mpath\u001b[0m\u001b[0;34m.\u001b[0m\u001b[0mnormpath\u001b[0m\u001b[0;34m(\u001b[0m\u001b[0msrc\u001b[0m\u001b[0;34m)\u001b[0m\u001b[0;34m,\u001b[0m \u001b[0mformat\u001b[0m\u001b[0;34m,\u001b[0m \u001b[0moption\u001b[0m\u001b[0;34m)\u001b[0m\u001b[0;34m\u001b[0m\u001b[0;34m\u001b[0m\u001b[0m\n\u001b[0m\u001b[1;32m    527\u001b[0m \u001b[0;34m\u001b[0m\u001b[0m\n\u001b[1;32m    528\u001b[0m         \u001b[0mi\u001b[0m \u001b[0;34m=\u001b[0m \u001b[0mself\u001b[0m\u001b[0;34m.\u001b[0m\u001b[0m_be\u001b[0m\u001b[0;34m.\u001b[0m\u001b[0mfind_best_audio_stream\u001b[0m\u001b[0;34m(\u001b[0m\u001b[0;34m)\u001b[0m\u001b[0;34m\u001b[0m\u001b[0;34m\u001b[0m\u001b[0m\n",
            "\u001b[0;31mRuntimeError\u001b[0m: Failed to open the input \"/\" (Is a directory).\nException raised from get_input_format_context at /__w/audio/audio/pytorch/audio/src/libtorio/ffmpeg/stream_reader/stream_reader.cpp:42 (most recent call first):\nframe #0: c10::Error::Error(c10::SourceLocation, std::string) + 0x96 (0x7c3e206b9446 in /usr/local/lib/python3.11/dist-packages/torch/lib/libc10.so)\nframe #1: c10::detail::torchCheckFail(char const*, char const*, unsigned int, std::string const&) + 0x64 (0x7c3e206636e4 in /usr/local/lib/python3.11/dist-packages/torch/lib/libc10.so)\nframe #2: <unknown function> + 0x42134 (0x7c3e11dca134 in /usr/local/lib/python3.11/dist-packages/torio/lib/libtorio_ffmpeg4.so)\nframe #3: torio::io::StreamingMediaDecoder::StreamingMediaDecoder(std::string const&, std::optional<std::string> const&, std::optional<std::map<std::string, std::string, std::less<std::string>, std::allocator<std::pair<std::string const, std::string> > > > const&) + 0x14 (0x7c3e11dccb34 in /usr/local/lib/python3.11/dist-packages/torio/lib/libtorio_ffmpeg4.so)\nframe #4: <unknown function> + 0x3a8de (0x7c3d2273a8de in /usr/local/lib/python3.11/dist-packages/torio/lib/_torio_ffmpeg4.so)\nframe #5: <unknown function> + 0x323ee (0x7c3d227323ee in /usr/local/lib/python3.11/dist-packages/torio/lib/_torio_ffmpeg4.so)\nframe #6: /usr/bin/python3() [0x55559b]\nframe #7: _PyObject_MakeTpCall + 0x27c (0x52f67c in /usr/bin/python3)\nframe #8: /usr/bin/python3() [0x58536d]\nframe #9: /usr/bin/python3() [0x56e229]\nframe #10: /usr/bin/python3() [0x52fa60]\nframe #11: <unknown function> + 0xfc8b (0x7c3e20ac6c8b in /usr/local/lib/python3.11/dist-packages/torchaudio/lib/_torchaudio.so)\nframe #12: _PyObject_MakeTpCall + 0x27c (0x52f67c in /usr/bin/python3)\nframe #13: _PyEval_EvalFrameDefault + 0x6bf (0x53d7ff in /usr/bin/python3)\nframe #14: _PyFunction_Vectorcall + 0x173 (0x5661a3 in /usr/bin/python3)\nframe #15: /usr/bin/python3() [0x56deb6]\nframe #16: _PyObject_MakeTpCall + 0x23b (0x52f63b in /usr/bin/python3)\nframe #17: _PyEval_EvalFrameDefault + 0x6bf (0x53d7ff in /usr/bin/python3)\nframe #18: _PyFunction_Vectorcall + 0x173 (0x5661a3 in /usr/bin/python3)\nframe #19: PyObject_Call + 0xf4 (0x570704 in /usr/bin/python3)\nframe #20: _PyEval_EvalFrameDefault + 0x4a8f (0x541bcf in /usr/bin/python3)\nframe #21: /usr/bin/python3() [0x6135e4]\nframe #22: PyEval_EvalCode + 0x97 (0x612c47 in /usr/bin/python3)\nframe #23: /usr/bin/python3() [0x62ca33]\nframe #24: _PyEval_EvalFrameDefault + 0x390f (0x540a4f in /usr/bin/python3)\nframe #25: /usr/bin/python3() [0x6284b0]\nframe #26: _PyEval_EvalFrameDefault + 0x3485 (0x5405c5 in /usr/bin/python3)\nframe #27: /usr/bin/python3() [0x6284b0]\nframe #28: _PyEval_EvalFrameDefault + 0x3485 (0x5405c5 in /usr/bin/python3)\nframe #29: /usr/bin/python3() [0x6284b0]\nframe #30: /usr/bin/python3() [0x62aaec]\nframe #31: _PyEval_EvalFrameDefault + 0x3a9d (0x540bdd in /usr/bin/python3)\nframe #32: /usr/bin/python3() [0x585a87]\nframe #33: /usr/bin/python3() [0x58526e]\nframe #34: PyObject_Call + 0xf4 (0x570704 in /usr/bin/python3)\nframe #35: _PyEval_EvalFrameDefault + 0x4a8f (0x541bcf in /usr/bin/python3)\nframe #36: /usr/bin/python3() [0x6284b0]\nframe #37: _PyEval_EvalFrameDefault + 0x3485 (0x5405c5 in /usr/bin/python3)\nframe #38: /usr/bin/python3() [0x6284b0]\nframe #39: _PyEval_EvalFrameDefault + 0x3485 (0x5405c5 in /usr/bin/python3)\nframe #40: /usr/bin/python3() [0x6284b0]\nframe #41: _PyEval_EvalFrameDefault + 0x3485 (0x5405c5 in /usr/bin/python3)\nframe #42: /usr/bin/python3() [0x6284b0]\nframe #43: _PyEval_EvalFrameDefault + 0x3485 (0x5405c5 in /usr/bin/python3)\nframe #44: /usr/bin/python3() [0x6284b0]\nframe #45: <unknown function> + 0x745f (0x7c3e3b13b45f in /usr/lib/python3.11/lib-dynload/_asyncio.cpython-311-x86_64-linux-gnu.so)\nframe #46: /usr/bin/python3() [0x553a1f]\nframe #47: /usr/bin/python3() [0x4d0bc0]\nframe #48: /usr/bin/python3() [0x4e94f3]\nframe #49: /usr/bin/python3() [0x54b25b]\nframe #50: _PyEval_EvalFrameDefault + 0x9129 (0x546269 in /usr/bin/python3)\nframe #51: /usr/bin/python3() [0x6135e4]\nframe #52: PyEval_EvalCode + 0x97 (0x612c47 in /usr/bin/python3)\nframe #53: /usr/bin/python3() [0x62ca33]\nframe #54: /usr/bin/python3() [0x54b25b]\nframe #55: PyObject_Vectorcall + 0x35 (0x54b145 in /usr/bin/python3)\nframe #56: _PyEval_EvalFrameDefault + 0x6bf (0x53d7ff in /usr/bin/python3)\nframe #57: _PyFunction_Vectorcall + 0x173 (0x5661a3 in /usr/bin/python3)\nframe #58: /usr/bin/python3() [0x63e860]\nframe #59: Py_RunMain + 0x13c (0x63e1bc in /usr/bin/python3)\nframe #60: Py_BytesMain + 0x2d (0x603f2d in /usr/bin/python3)\nframe #61: <unknown function> + 0x29d90 (0x7c3e3b871d90 in /lib/x86_64-linux-gnu/libc.so.6)\nframe #62: __libc_start_main + 0x80 (0x7c3e3b871e40 in /lib/x86_64-linux-gnu/libc.so.6)\n"
          ]
        }
      ]
    },
    {
      "cell_type": "code",
      "source": [
        "out_wav = knn_vc.match(query_seq, matching_set, topk=4)"
      ],
      "metadata": {
        "id": "UREha7VM4idc"
      },
      "execution_count": null,
      "outputs": []
    },
    {
      "cell_type": "code",
      "source": [
        "import IPython.display as ipd"
      ],
      "metadata": {
        "id": "1YhPSQ4f4nF0"
      },
      "execution_count": null,
      "outputs": []
    },
    {
      "cell_type": "code",
      "source": [
        "ipd.Audio(out_wav.numpy(), rate=16000)"
      ],
      "metadata": {
        "id": "7-xbWSqf7iAK"
      },
      "execution_count": null,
      "outputs": []
    },
    {
      "cell_type": "code",
      "source": [
        "torchaudio.save('knnvc1_out.wav', out_wav[None], 16000)"
      ],
      "metadata": {
        "id": "QDA9xO_mB1eD"
      },
      "execution_count": null,
      "outputs": []
    },
    {
      "cell_type": "markdown",
      "source": [
        "<audio name=\"abstract-reader\" controls preload src=\"https://github.com/bshall/knn-vc/releases/download/v0.1/david-attenborough.wav\"></audio>"
      ],
      "metadata": {
        "id": "wyWtICjSECkF"
      }
    }
  ]
}